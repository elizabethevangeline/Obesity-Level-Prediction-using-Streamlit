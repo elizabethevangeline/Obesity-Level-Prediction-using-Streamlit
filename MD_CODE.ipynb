{
  "nbformat": 4,
  "nbformat_minor": 0,
  "metadata": {
    "colab": {
      "provenance": []
    },
    "kernelspec": {
      "name": "python3",
      "display_name": "Python 3"
    },
    "language_info": {
      "name": "python"
    }
  },
  "cells": [
    {
      "cell_type": "code",
      "execution_count": 1,
      "metadata": {
        "id": "8jUrzjHglanl"
      },
      "outputs": [],
      "source": [
        "#memanggil library\n",
        "import pandas as pd\n",
        "import numpy as np\n",
        "import matplotlib.pyplot as plt"
      ]
    },
    {
      "cell_type": "code",
      "source": [
        "#read file\n",
        "df = pd.read_csv('ObesityDataSet1.csv')"
      ],
      "metadata": {
        "id": "1qo0U7zjnLtj"
      },
      "execution_count": 2,
      "outputs": []
    },
    {
      "cell_type": "code",
      "source": [
        "#tampilin 5 data teratas\n",
        "df.head()"
      ],
      "metadata": {
        "colab": {
          "base_uri": "https://localhost:8080/",
          "height": 243
        },
        "id": "hbIy5zq0nOCi",
        "outputId": "2a7bf7dd-96e8-4d98-ab5b-14f1abe7e5da"
      },
      "execution_count": 3,
      "outputs": [
        {
          "output_type": "execute_result",
          "data": {
            "text/plain": [
              "   Gender       Age  Height  Weight family_history_with_overweight FAVC  FCVC  \\\n",
              "0    Male        31    1.87  128.87                            yes  yes  2.96   \n",
              "1  Female        18    1.59   40.00                            yes  yes  2.00   \n",
              "2  Female  44 years    1.59   77.00                            yes  yes  2.00   \n",
              "3    Male        31    1.68  102.00                            yes  yes  2.94   \n",
              "4    Male        22    1.74   75.00                            yes  yes  3.00   \n",
              "\n",
              "    NCP        CAEC SMOKE  CH2O SCC   FAF    TUE       CALC  \\\n",
              "0  3.00   Sometimes   yes  1.28  no  0.90  1.875  Sometimes   \n",
              "1  1.00  Frequently    no  1.00  no  0.00  2.000         no   \n",
              "2  3.00   Sometimes    no  2.81  no  0.00  0.000  Sometimes   \n",
              "3  2.14   Sometimes    no  1.25  no  1.18  0.778         no   \n",
              "4  3.00  Frequently    no  1.00  no  1.00  0.000         no   \n",
              "\n",
              "                  MTRANS           NObeyesdad  \n",
              "0             Automobile      Obesity_Type_II  \n",
              "1  Public_Transportation  Insufficient_Weight  \n",
              "2             Automobile       Obesity_Type_I  \n",
              "3  Public_Transportation      Obesity_Type_II  \n",
              "4             Automobile        Normal_Weight  "
            ],
            "text/html": [
              "\n",
              "  <div id=\"df-745c6dde-75d3-4ec1-bf38-0709c8e000b6\" class=\"colab-df-container\">\n",
              "    <div>\n",
              "<style scoped>\n",
              "    .dataframe tbody tr th:only-of-type {\n",
              "        vertical-align: middle;\n",
              "    }\n",
              "\n",
              "    .dataframe tbody tr th {\n",
              "        vertical-align: top;\n",
              "    }\n",
              "\n",
              "    .dataframe thead th {\n",
              "        text-align: right;\n",
              "    }\n",
              "</style>\n",
              "<table border=\"1\" class=\"dataframe\">\n",
              "  <thead>\n",
              "    <tr style=\"text-align: right;\">\n",
              "      <th></th>\n",
              "      <th>Gender</th>\n",
              "      <th>Age</th>\n",
              "      <th>Height</th>\n",
              "      <th>Weight</th>\n",
              "      <th>family_history_with_overweight</th>\n",
              "      <th>FAVC</th>\n",
              "      <th>FCVC</th>\n",
              "      <th>NCP</th>\n",
              "      <th>CAEC</th>\n",
              "      <th>SMOKE</th>\n",
              "      <th>CH2O</th>\n",
              "      <th>SCC</th>\n",
              "      <th>FAF</th>\n",
              "      <th>TUE</th>\n",
              "      <th>CALC</th>\n",
              "      <th>MTRANS</th>\n",
              "      <th>NObeyesdad</th>\n",
              "    </tr>\n",
              "  </thead>\n",
              "  <tbody>\n",
              "    <tr>\n",
              "      <th>0</th>\n",
              "      <td>Male</td>\n",
              "      <td>31</td>\n",
              "      <td>1.87</td>\n",
              "      <td>128.87</td>\n",
              "      <td>yes</td>\n",
              "      <td>yes</td>\n",
              "      <td>2.96</td>\n",
              "      <td>3.00</td>\n",
              "      <td>Sometimes</td>\n",
              "      <td>yes</td>\n",
              "      <td>1.28</td>\n",
              "      <td>no</td>\n",
              "      <td>0.90</td>\n",
              "      <td>1.875</td>\n",
              "      <td>Sometimes</td>\n",
              "      <td>Automobile</td>\n",
              "      <td>Obesity_Type_II</td>\n",
              "    </tr>\n",
              "    <tr>\n",
              "      <th>1</th>\n",
              "      <td>Female</td>\n",
              "      <td>18</td>\n",
              "      <td>1.59</td>\n",
              "      <td>40.00</td>\n",
              "      <td>yes</td>\n",
              "      <td>yes</td>\n",
              "      <td>2.00</td>\n",
              "      <td>1.00</td>\n",
              "      <td>Frequently</td>\n",
              "      <td>no</td>\n",
              "      <td>1.00</td>\n",
              "      <td>no</td>\n",
              "      <td>0.00</td>\n",
              "      <td>2.000</td>\n",
              "      <td>no</td>\n",
              "      <td>Public_Transportation</td>\n",
              "      <td>Insufficient_Weight</td>\n",
              "    </tr>\n",
              "    <tr>\n",
              "      <th>2</th>\n",
              "      <td>Female</td>\n",
              "      <td>44 years</td>\n",
              "      <td>1.59</td>\n",
              "      <td>77.00</td>\n",
              "      <td>yes</td>\n",
              "      <td>yes</td>\n",
              "      <td>2.00</td>\n",
              "      <td>3.00</td>\n",
              "      <td>Sometimes</td>\n",
              "      <td>no</td>\n",
              "      <td>2.81</td>\n",
              "      <td>no</td>\n",
              "      <td>0.00</td>\n",
              "      <td>0.000</td>\n",
              "      <td>Sometimes</td>\n",
              "      <td>Automobile</td>\n",
              "      <td>Obesity_Type_I</td>\n",
              "    </tr>\n",
              "    <tr>\n",
              "      <th>3</th>\n",
              "      <td>Male</td>\n",
              "      <td>31</td>\n",
              "      <td>1.68</td>\n",
              "      <td>102.00</td>\n",
              "      <td>yes</td>\n",
              "      <td>yes</td>\n",
              "      <td>2.94</td>\n",
              "      <td>2.14</td>\n",
              "      <td>Sometimes</td>\n",
              "      <td>no</td>\n",
              "      <td>1.25</td>\n",
              "      <td>no</td>\n",
              "      <td>1.18</td>\n",
              "      <td>0.778</td>\n",
              "      <td>no</td>\n",
              "      <td>Public_Transportation</td>\n",
              "      <td>Obesity_Type_II</td>\n",
              "    </tr>\n",
              "    <tr>\n",
              "      <th>4</th>\n",
              "      <td>Male</td>\n",
              "      <td>22</td>\n",
              "      <td>1.74</td>\n",
              "      <td>75.00</td>\n",
              "      <td>yes</td>\n",
              "      <td>yes</td>\n",
              "      <td>3.00</td>\n",
              "      <td>3.00</td>\n",
              "      <td>Frequently</td>\n",
              "      <td>no</td>\n",
              "      <td>1.00</td>\n",
              "      <td>no</td>\n",
              "      <td>1.00</td>\n",
              "      <td>0.000</td>\n",
              "      <td>no</td>\n",
              "      <td>Automobile</td>\n",
              "      <td>Normal_Weight</td>\n",
              "    </tr>\n",
              "  </tbody>\n",
              "</table>\n",
              "</div>\n",
              "    <div class=\"colab-df-buttons\">\n",
              "\n",
              "  <div class=\"colab-df-container\">\n",
              "    <button class=\"colab-df-convert\" onclick=\"convertToInteractive('df-745c6dde-75d3-4ec1-bf38-0709c8e000b6')\"\n",
              "            title=\"Convert this dataframe to an interactive table.\"\n",
              "            style=\"display:none;\">\n",
              "\n",
              "  <svg xmlns=\"http://www.w3.org/2000/svg\" height=\"24px\" viewBox=\"0 -960 960 960\">\n",
              "    <path d=\"M120-120v-720h720v720H120Zm60-500h600v-160H180v160Zm220 220h160v-160H400v160Zm0 220h160v-160H400v160ZM180-400h160v-160H180v160Zm440 0h160v-160H620v160ZM180-180h160v-160H180v160Zm440 0h160v-160H620v160Z\"/>\n",
              "  </svg>\n",
              "    </button>\n",
              "\n",
              "  <style>\n",
              "    .colab-df-container {\n",
              "      display:flex;\n",
              "      gap: 12px;\n",
              "    }\n",
              "\n",
              "    .colab-df-convert {\n",
              "      background-color: #E8F0FE;\n",
              "      border: none;\n",
              "      border-radius: 50%;\n",
              "      cursor: pointer;\n",
              "      display: none;\n",
              "      fill: #1967D2;\n",
              "      height: 32px;\n",
              "      padding: 0 0 0 0;\n",
              "      width: 32px;\n",
              "    }\n",
              "\n",
              "    .colab-df-convert:hover {\n",
              "      background-color: #E2EBFA;\n",
              "      box-shadow: 0px 1px 2px rgba(60, 64, 67, 0.3), 0px 1px 3px 1px rgba(60, 64, 67, 0.15);\n",
              "      fill: #174EA6;\n",
              "    }\n",
              "\n",
              "    .colab-df-buttons div {\n",
              "      margin-bottom: 4px;\n",
              "    }\n",
              "\n",
              "    [theme=dark] .colab-df-convert {\n",
              "      background-color: #3B4455;\n",
              "      fill: #D2E3FC;\n",
              "    }\n",
              "\n",
              "    [theme=dark] .colab-df-convert:hover {\n",
              "      background-color: #434B5C;\n",
              "      box-shadow: 0px 1px 3px 1px rgba(0, 0, 0, 0.15);\n",
              "      filter: drop-shadow(0px 1px 2px rgba(0, 0, 0, 0.3));\n",
              "      fill: #FFFFFF;\n",
              "    }\n",
              "  </style>\n",
              "\n",
              "    <script>\n",
              "      const buttonEl =\n",
              "        document.querySelector('#df-745c6dde-75d3-4ec1-bf38-0709c8e000b6 button.colab-df-convert');\n",
              "      buttonEl.style.display =\n",
              "        google.colab.kernel.accessAllowed ? 'block' : 'none';\n",
              "\n",
              "      async function convertToInteractive(key) {\n",
              "        const element = document.querySelector('#df-745c6dde-75d3-4ec1-bf38-0709c8e000b6');\n",
              "        const dataTable =\n",
              "          await google.colab.kernel.invokeFunction('convertToInteractive',\n",
              "                                                    [key], {});\n",
              "        if (!dataTable) return;\n",
              "\n",
              "        const docLinkHtml = 'Like what you see? Visit the ' +\n",
              "          '<a target=\"_blank\" href=https://colab.research.google.com/notebooks/data_table.ipynb>data table notebook</a>'\n",
              "          + ' to learn more about interactive tables.';\n",
              "        element.innerHTML = '';\n",
              "        dataTable['output_type'] = 'display_data';\n",
              "        await google.colab.output.renderOutput(dataTable, element);\n",
              "        const docLink = document.createElement('div');\n",
              "        docLink.innerHTML = docLinkHtml;\n",
              "        element.appendChild(docLink);\n",
              "      }\n",
              "    </script>\n",
              "  </div>\n",
              "\n",
              "\n",
              "    <div id=\"df-ab73012b-008c-45de-b547-da0a8c563187\">\n",
              "      <button class=\"colab-df-quickchart\" onclick=\"quickchart('df-ab73012b-008c-45de-b547-da0a8c563187')\"\n",
              "                title=\"Suggest charts\"\n",
              "                style=\"display:none;\">\n",
              "\n",
              "<svg xmlns=\"http://www.w3.org/2000/svg\" height=\"24px\"viewBox=\"0 0 24 24\"\n",
              "     width=\"24px\">\n",
              "    <g>\n",
              "        <path d=\"M19 3H5c-1.1 0-2 .9-2 2v14c0 1.1.9 2 2 2h14c1.1 0 2-.9 2-2V5c0-1.1-.9-2-2-2zM9 17H7v-7h2v7zm4 0h-2V7h2v10zm4 0h-2v-4h2v4z\"/>\n",
              "    </g>\n",
              "</svg>\n",
              "      </button>\n",
              "\n",
              "<style>\n",
              "  .colab-df-quickchart {\n",
              "      --bg-color: #E8F0FE;\n",
              "      --fill-color: #1967D2;\n",
              "      --hover-bg-color: #E2EBFA;\n",
              "      --hover-fill-color: #174EA6;\n",
              "      --disabled-fill-color: #AAA;\n",
              "      --disabled-bg-color: #DDD;\n",
              "  }\n",
              "\n",
              "  [theme=dark] .colab-df-quickchart {\n",
              "      --bg-color: #3B4455;\n",
              "      --fill-color: #D2E3FC;\n",
              "      --hover-bg-color: #434B5C;\n",
              "      --hover-fill-color: #FFFFFF;\n",
              "      --disabled-bg-color: #3B4455;\n",
              "      --disabled-fill-color: #666;\n",
              "  }\n",
              "\n",
              "  .colab-df-quickchart {\n",
              "    background-color: var(--bg-color);\n",
              "    border: none;\n",
              "    border-radius: 50%;\n",
              "    cursor: pointer;\n",
              "    display: none;\n",
              "    fill: var(--fill-color);\n",
              "    height: 32px;\n",
              "    padding: 0;\n",
              "    width: 32px;\n",
              "  }\n",
              "\n",
              "  .colab-df-quickchart:hover {\n",
              "    background-color: var(--hover-bg-color);\n",
              "    box-shadow: 0 1px 2px rgba(60, 64, 67, 0.3), 0 1px 3px 1px rgba(60, 64, 67, 0.15);\n",
              "    fill: var(--button-hover-fill-color);\n",
              "  }\n",
              "\n",
              "  .colab-df-quickchart-complete:disabled,\n",
              "  .colab-df-quickchart-complete:disabled:hover {\n",
              "    background-color: var(--disabled-bg-color);\n",
              "    fill: var(--disabled-fill-color);\n",
              "    box-shadow: none;\n",
              "  }\n",
              "\n",
              "  .colab-df-spinner {\n",
              "    border: 2px solid var(--fill-color);\n",
              "    border-color: transparent;\n",
              "    border-bottom-color: var(--fill-color);\n",
              "    animation:\n",
              "      spin 1s steps(1) infinite;\n",
              "  }\n",
              "\n",
              "  @keyframes spin {\n",
              "    0% {\n",
              "      border-color: transparent;\n",
              "      border-bottom-color: var(--fill-color);\n",
              "      border-left-color: var(--fill-color);\n",
              "    }\n",
              "    20% {\n",
              "      border-color: transparent;\n",
              "      border-left-color: var(--fill-color);\n",
              "      border-top-color: var(--fill-color);\n",
              "    }\n",
              "    30% {\n",
              "      border-color: transparent;\n",
              "      border-left-color: var(--fill-color);\n",
              "      border-top-color: var(--fill-color);\n",
              "      border-right-color: var(--fill-color);\n",
              "    }\n",
              "    40% {\n",
              "      border-color: transparent;\n",
              "      border-right-color: var(--fill-color);\n",
              "      border-top-color: var(--fill-color);\n",
              "    }\n",
              "    60% {\n",
              "      border-color: transparent;\n",
              "      border-right-color: var(--fill-color);\n",
              "    }\n",
              "    80% {\n",
              "      border-color: transparent;\n",
              "      border-right-color: var(--fill-color);\n",
              "      border-bottom-color: var(--fill-color);\n",
              "    }\n",
              "    90% {\n",
              "      border-color: transparent;\n",
              "      border-bottom-color: var(--fill-color);\n",
              "    }\n",
              "  }\n",
              "</style>\n",
              "\n",
              "      <script>\n",
              "        async function quickchart(key) {\n",
              "          const quickchartButtonEl =\n",
              "            document.querySelector('#' + key + ' button');\n",
              "          quickchartButtonEl.disabled = true;  // To prevent multiple clicks.\n",
              "          quickchartButtonEl.classList.add('colab-df-spinner');\n",
              "          try {\n",
              "            const charts = await google.colab.kernel.invokeFunction(\n",
              "                'suggestCharts', [key], {});\n",
              "          } catch (error) {\n",
              "            console.error('Error during call to suggestCharts:', error);\n",
              "          }\n",
              "          quickchartButtonEl.classList.remove('colab-df-spinner');\n",
              "          quickchartButtonEl.classList.add('colab-df-quickchart-complete');\n",
              "        }\n",
              "        (() => {\n",
              "          let quickchartButtonEl =\n",
              "            document.querySelector('#df-ab73012b-008c-45de-b547-da0a8c563187 button');\n",
              "          quickchartButtonEl.style.display =\n",
              "            google.colab.kernel.accessAllowed ? 'block' : 'none';\n",
              "        })();\n",
              "      </script>\n",
              "    </div>\n",
              "\n",
              "    </div>\n",
              "  </div>\n"
            ],
            "application/vnd.google.colaboratory.intrinsic+json": {
              "type": "dataframe",
              "variable_name": "df",
              "summary": "{\n  \"name\": \"df\",\n  \"rows\": 1055,\n  \"fields\": [\n    {\n      \"column\": \"Gender\",\n      \"properties\": {\n        \"dtype\": \"category\",\n        \"num_unique_values\": 2,\n        \"samples\": [\n          \"Female\",\n          \"Male\"\n        ],\n        \"semantic_type\": \"\",\n        \"description\": \"\"\n      }\n    },\n    {\n      \"column\": \"Age\",\n      \"properties\": {\n        \"dtype\": \"category\",\n        \"num_unique_values\": 46,\n        \"samples\": [\n          \"55\",\n          \"34\"\n        ],\n        \"semantic_type\": \"\",\n        \"description\": \"\"\n      }\n    },\n    {\n      \"column\": \"Height\",\n      \"properties\": {\n        \"dtype\": \"number\",\n        \"std\": 0.09516221324874748,\n        \"min\": 1.46,\n        \"max\": 1.98,\n        \"num_unique_values\": 49,\n        \"samples\": [\n          1.88,\n          1.49\n        ],\n        \"semantic_type\": \"\",\n        \"description\": \"\"\n      }\n    },\n    {\n      \"column\": \"Weight\",\n      \"properties\": {\n        \"dtype\": \"number\",\n        \"std\": 26.213230507453243,\n        \"min\": 39.37,\n        \"max\": 160.64,\n        \"num_unique_values\": 751,\n        \"samples\": [\n          98.18,\n          61.37\n        ],\n        \"semantic_type\": \"\",\n        \"description\": \"\"\n      }\n    },\n    {\n      \"column\": \"family_history_with_overweight\",\n      \"properties\": {\n        \"dtype\": \"category\",\n        \"num_unique_values\": 2,\n        \"samples\": [\n          \"no\",\n          \"yes\"\n        ],\n        \"semantic_type\": \"\",\n        \"description\": \"\"\n      }\n    },\n    {\n      \"column\": \"FAVC\",\n      \"properties\": {\n        \"dtype\": \"category\",\n        \"num_unique_values\": 2,\n        \"samples\": [\n          \"no\",\n          \"yes\"\n        ],\n        \"semantic_type\": \"\",\n        \"description\": \"\"\n      }\n    },\n    {\n      \"column\": \"FCVC\",\n      \"properties\": {\n        \"dtype\": \"number\",\n        \"std\": 0.5296952338349882,\n        \"min\": 1.0,\n        \"max\": 3.0,\n        \"num_unique_values\": 160,\n        \"samples\": [\n          1.08,\n          2.37\n        ],\n        \"semantic_type\": \"\",\n        \"description\": \"\"\n      }\n    },\n    {\n      \"column\": \"NCP\",\n      \"properties\": {\n        \"dtype\": \"number\",\n        \"std\": 0.749589875364852,\n        \"min\": 1.0,\n        \"max\": 4.0,\n        \"num_unique_values\": 175,\n        \"samples\": [\n          1.31,\n          3.09\n        ],\n        \"semantic_type\": \"\",\n        \"description\": \"\"\n      }\n    },\n    {\n      \"column\": \"CAEC\",\n      \"properties\": {\n        \"dtype\": \"category\",\n        \"num_unique_values\": 4,\n        \"samples\": [\n          \"Frequently\",\n          \"no\"\n        ],\n        \"semantic_type\": \"\",\n        \"description\": \"\"\n      }\n    },\n    {\n      \"column\": \"SMOKE\",\n      \"properties\": {\n        \"dtype\": \"category\",\n        \"num_unique_values\": 2,\n        \"samples\": [\n          \"no\",\n          \"yes\"\n        ],\n        \"semantic_type\": \"\",\n        \"description\": \"\"\n      }\n    },\n    {\n      \"column\": \"CH2O\",\n      \"properties\": {\n        \"dtype\": \"number\",\n        \"std\": 0.6130948850656428,\n        \"min\": 1.0,\n        \"max\": 3.0,\n        \"num_unique_values\": 194,\n        \"samples\": [\n          1.48,\n          2.06\n        ],\n        \"semantic_type\": \"\",\n        \"description\": \"\"\n      }\n    },\n    {\n      \"column\": \"SCC\",\n      \"properties\": {\n        \"dtype\": \"category\",\n        \"num_unique_values\": 2,\n        \"samples\": [\n          \"yes\",\n          \"no\"\n        ],\n        \"semantic_type\": \"\",\n        \"description\": \"\"\n      }\n    },\n    {\n      \"column\": \"FAF\",\n      \"properties\": {\n        \"dtype\": \"number\",\n        \"std\": 0.8505659686191489,\n        \"min\": 0.0,\n        \"max\": 3.0,\n        \"num_unique_values\": 226,\n        \"samples\": [\n          0.26,\n          1.78\n        ],\n        \"semantic_type\": \"\",\n        \"description\": \"\"\n      }\n    },\n    {\n      \"column\": \"TUE\",\n      \"properties\": {\n        \"dtype\": \"number\",\n        \"std\": 0.6031653496488859,\n        \"min\": 0.0,\n        \"max\": 2.0,\n        \"num_unique_values\": 470,\n        \"samples\": [\n          0.936,\n          0.053\n        ],\n        \"semantic_type\": \"\",\n        \"description\": \"\"\n      }\n    },\n    {\n      \"column\": \"CALC\",\n      \"properties\": {\n        \"dtype\": \"category\",\n        \"num_unique_values\": 3,\n        \"samples\": [\n          \"Sometimes\",\n          \"no\"\n        ],\n        \"semantic_type\": \"\",\n        \"description\": \"\"\n      }\n    },\n    {\n      \"column\": \"MTRANS\",\n      \"properties\": {\n        \"dtype\": \"category\",\n        \"num_unique_values\": 5,\n        \"samples\": [\n          \"Public_Transportation\",\n          \"Motorbike\"\n        ],\n        \"semantic_type\": \"\",\n        \"description\": \"\"\n      }\n    },\n    {\n      \"column\": \"NObeyesdad\",\n      \"properties\": {\n        \"dtype\": \"category\",\n        \"num_unique_values\": 7,\n        \"samples\": [\n          \"Obesity_Type_II\",\n          \"Insufficient_Weight\"\n        ],\n        \"semantic_type\": \"\",\n        \"description\": \"\"\n      }\n    }\n  ]\n}"
            }
          },
          "metadata": {},
          "execution_count": 3
        }
      ]
    },
    {
      "cell_type": "code",
      "source": [
        "print(df.columns) #cek ada kolom apa aja\n",
        "print(df.shape) #cek ukuran datanya\n",
        "print(df.info()) #informasi data"
      ],
      "metadata": {
        "colab": {
          "base_uri": "https://localhost:8080/"
        },
        "id": "B6hEsHqcnQNu",
        "outputId": "652f47cb-03c8-4a86-81e2-d78cf724e1f2"
      },
      "execution_count": 4,
      "outputs": [
        {
          "output_type": "stream",
          "name": "stdout",
          "text": [
            "Index(['Gender', 'Age', 'Height', 'Weight', 'family_history_with_overweight',\n",
            "       'FAVC', 'FCVC', 'NCP', 'CAEC', 'SMOKE', 'CH2O', 'SCC', 'FAF', 'TUE',\n",
            "       'CALC', 'MTRANS', 'NObeyesdad'],\n",
            "      dtype='object')\n",
            "(1055, 17)\n",
            "<class 'pandas.core.frame.DataFrame'>\n",
            "RangeIndex: 1055 entries, 0 to 1054\n",
            "Data columns (total 17 columns):\n",
            " #   Column                          Non-Null Count  Dtype  \n",
            "---  ------                          --------------  -----  \n",
            " 0   Gender                          1055 non-null   object \n",
            " 1   Age                             1055 non-null   object \n",
            " 2   Height                          1055 non-null   float64\n",
            " 3   Weight                          1055 non-null   float64\n",
            " 4   family_history_with_overweight  1055 non-null   object \n",
            " 5   FAVC                            1055 non-null   object \n",
            " 6   FCVC                            1055 non-null   float64\n",
            " 7   NCP                             1055 non-null   float64\n",
            " 8   CAEC                            1029 non-null   object \n",
            " 9   SMOKE                           1055 non-null   object \n",
            " 10  CH2O                            1055 non-null   float64\n",
            " 11  SCC                             1055 non-null   object \n",
            " 12  FAF                             1055 non-null   float64\n",
            " 13  TUE                             1018 non-null   float64\n",
            " 14  CALC                            1055 non-null   object \n",
            " 15  MTRANS                          1055 non-null   object \n",
            " 16  NObeyesdad                      1055 non-null   object \n",
            "dtypes: float64(7), object(10)\n",
            "memory usage: 140.2+ KB\n",
            "None\n"
          ]
        }
      ]
    },
    {
      "cell_type": "code",
      "source": [
        "#cek apakah ada kolom yg null\n",
        "df.isnull().sum()"
      ],
      "metadata": {
        "colab": {
          "base_uri": "https://localhost:8080/",
          "height": 617
        },
        "id": "BJDQnR5knSgH",
        "outputId": "0907294e-e0f5-422b-8eee-71c89630c31b"
      },
      "execution_count": 5,
      "outputs": [
        {
          "output_type": "execute_result",
          "data": {
            "text/plain": [
              "Gender                             0\n",
              "Age                                0\n",
              "Height                             0\n",
              "Weight                             0\n",
              "family_history_with_overweight     0\n",
              "FAVC                               0\n",
              "FCVC                               0\n",
              "NCP                                0\n",
              "CAEC                              26\n",
              "SMOKE                              0\n",
              "CH2O                               0\n",
              "SCC                                0\n",
              "FAF                                0\n",
              "TUE                               37\n",
              "CALC                               0\n",
              "MTRANS                             0\n",
              "NObeyesdad                         0\n",
              "dtype: int64"
            ],
            "text/html": [
              "<div>\n",
              "<style scoped>\n",
              "    .dataframe tbody tr th:only-of-type {\n",
              "        vertical-align: middle;\n",
              "    }\n",
              "\n",
              "    .dataframe tbody tr th {\n",
              "        vertical-align: top;\n",
              "    }\n",
              "\n",
              "    .dataframe thead th {\n",
              "        text-align: right;\n",
              "    }\n",
              "</style>\n",
              "<table border=\"1\" class=\"dataframe\">\n",
              "  <thead>\n",
              "    <tr style=\"text-align: right;\">\n",
              "      <th></th>\n",
              "      <th>0</th>\n",
              "    </tr>\n",
              "  </thead>\n",
              "  <tbody>\n",
              "    <tr>\n",
              "      <th>Gender</th>\n",
              "      <td>0</td>\n",
              "    </tr>\n",
              "    <tr>\n",
              "      <th>Age</th>\n",
              "      <td>0</td>\n",
              "    </tr>\n",
              "    <tr>\n",
              "      <th>Height</th>\n",
              "      <td>0</td>\n",
              "    </tr>\n",
              "    <tr>\n",
              "      <th>Weight</th>\n",
              "      <td>0</td>\n",
              "    </tr>\n",
              "    <tr>\n",
              "      <th>family_history_with_overweight</th>\n",
              "      <td>0</td>\n",
              "    </tr>\n",
              "    <tr>\n",
              "      <th>FAVC</th>\n",
              "      <td>0</td>\n",
              "    </tr>\n",
              "    <tr>\n",
              "      <th>FCVC</th>\n",
              "      <td>0</td>\n",
              "    </tr>\n",
              "    <tr>\n",
              "      <th>NCP</th>\n",
              "      <td>0</td>\n",
              "    </tr>\n",
              "    <tr>\n",
              "      <th>CAEC</th>\n",
              "      <td>26</td>\n",
              "    </tr>\n",
              "    <tr>\n",
              "      <th>SMOKE</th>\n",
              "      <td>0</td>\n",
              "    </tr>\n",
              "    <tr>\n",
              "      <th>CH2O</th>\n",
              "      <td>0</td>\n",
              "    </tr>\n",
              "    <tr>\n",
              "      <th>SCC</th>\n",
              "      <td>0</td>\n",
              "    </tr>\n",
              "    <tr>\n",
              "      <th>FAF</th>\n",
              "      <td>0</td>\n",
              "    </tr>\n",
              "    <tr>\n",
              "      <th>TUE</th>\n",
              "      <td>37</td>\n",
              "    </tr>\n",
              "    <tr>\n",
              "      <th>CALC</th>\n",
              "      <td>0</td>\n",
              "    </tr>\n",
              "    <tr>\n",
              "      <th>MTRANS</th>\n",
              "      <td>0</td>\n",
              "    </tr>\n",
              "    <tr>\n",
              "      <th>NObeyesdad</th>\n",
              "      <td>0</td>\n",
              "    </tr>\n",
              "  </tbody>\n",
              "</table>\n",
              "</div><br><label><b>dtype:</b> int64</label>"
            ]
          },
          "metadata": {},
          "execution_count": 5
        }
      ]
    },
    {
      "cell_type": "code",
      "source": [
        "#cek missing value yang float apakah lebih dari 40% atau engga\n",
        "missing_percent1 = df['TUE'].isnull().mean() * 100\n",
        "print(f\"Missing value di kolom 'TUE': {missing_percent1:.2f}%\")"
      ],
      "metadata": {
        "colab": {
          "base_uri": "https://localhost:8080/"
        },
        "id": "2KzGukpin1YP",
        "outputId": "144921b6-495d-487d-bbfb-85e5d5899be8"
      },
      "execution_count": 6,
      "outputs": [
        {
          "output_type": "stream",
          "name": "stdout",
          "text": [
            "Missing value di kolom 'TUE': 3.51%\n"
          ]
        }
      ]
    },
    {
      "cell_type": "code",
      "source": [
        "#krn < 40% maka ga di drop, coba cek dia ada outlier atau engga\n",
        "boxplot = df.boxplot(column=['TUE'])\n",
        "plt.show()"
      ],
      "metadata": {
        "colab": {
          "base_uri": "https://localhost:8080/",
          "height": 430
        },
        "id": "rXoKUN-JoejO",
        "outputId": "47f32703-cf37-46f9-ccd1-31c7a12d3604"
      },
      "execution_count": 7,
      "outputs": [
        {
          "output_type": "display_data",
          "data": {
            "text/plain": [
              "<Figure size 640x480 with 1 Axes>"
            ],
            "image/png": "[encoded data removed]"
          },
          "metadata": {}
        }
      ]
    },
    {
      "cell_type": "code",
      "source": [
        "#krn gak ada outlier, jadinya kita pake mean\n",
        "print('mean TUE: ', df['TUE'].mean())"
      ],
      "metadata": {
        "colab": {
          "base_uri": "https://localhost:8080/"
        },
        "id": "14If6X8zp8EX",
        "outputId": "b9b1843e-5d71-4719-9a38-efca226e4d66"
      },
      "execution_count": 8,
      "outputs": [
        {
          "output_type": "stream",
          "name": "stdout",
          "text": [
            "mean TUE:  0.6769774066797642\n"
          ]
        }
      ]
    },
    {
      "cell_type": "code",
      "source": [
        "#hasilnya dipake untuk isi null nya\n",
        "df['TUE'] = df['TUE'].fillna(0.676)"
      ],
      "metadata": {
        "id": "LPvd2zirqHAO"
      },
      "execution_count": 9,
      "outputs": []
    },
    {
      "cell_type": "code",
      "source": [
        "modus = df['CAEC'].mode()[0]\n",
        "print(f\"Modus dari kolom 'CAEC': {modus}\")"
      ],
      "metadata": {
        "colab": {
          "base_uri": "https://localhost:8080/"
        },
        "id": "X1UzusaiqTNZ",
        "outputId": "2aed4f06-d6c3-4324-b270-1300a063e8d7"
      },
      "execution_count": 10,
      "outputs": [
        {
          "output_type": "stream",
          "name": "stdout",
          "text": [
            "Modus dari kolom 'CAEC': Sometimes\n"
          ]
        }
      ]
    },
    {
      "cell_type": "code",
      "source": [
        "df['CAEC'] = df['CAEC'].fillna(modus)"
      ],
      "metadata": {
        "id": "0kQd7wKDq-jO"
      },
      "execution_count": 11,
      "outputs": []
    },
    {
      "cell_type": "code",
      "source": [
        "df.isnull().sum()"
      ],
      "metadata": {
        "colab": {
          "base_uri": "https://localhost:8080/",
          "height": 617
        },
        "id": "LH-ZPXforM7k",
        "outputId": "54c87db6-1ef8-4d23-88e9-e8fba499caee"
      },
      "execution_count": 12,
      "outputs": [
        {
          "output_type": "execute_result",
          "data": {
            "text/plain": [
              "Gender                            0\n",
              "Age                               0\n",
              "Height                            0\n",
              "Weight                            0\n",
              "family_history_with_overweight    0\n",
              "FAVC                              0\n",
              "FCVC                              0\n",
              "NCP                               0\n",
              "CAEC                              0\n",
              "SMOKE                             0\n",
              "CH2O                              0\n",
              "SCC                               0\n",
              "FAF                               0\n",
              "TUE                               0\n",
              "CALC                              0\n",
              "MTRANS                            0\n",
              "NObeyesdad                        0\n",
              "dtype: int64"
            ],
            "text/html": [
              "<div>\n",
              "<style scoped>\n",
              "    .dataframe tbody tr th:only-of-type {\n",
              "        vertical-align: middle;\n",
              "    }\n",
              "\n",
              "    .dataframe tbody tr th {\n",
              "        vertical-align: top;\n",
              "    }\n",
              "\n",
              "    .dataframe thead th {\n",
              "        text-align: right;\n",
              "    }\n",
              "</style>\n",
              "<table border=\"1\" class=\"dataframe\">\n",
              "  <thead>\n",
              "    <tr style=\"text-align: right;\">\n",
              "      <th></th>\n",
              "      <th>0</th>\n",
              "    </tr>\n",
              "  </thead>\n",
              "  <tbody>\n",
              "    <tr>\n",
              "      <th>Gender</th>\n",
              "      <td>0</td>\n",
              "    </tr>\n",
              "    <tr>\n",
              "      <th>Age</th>\n",
              "      <td>0</td>\n",
              "    </tr>\n",
              "    <tr>\n",
              "      <th>Height</th>\n",
              "      <td>0</td>\n",
              "    </tr>\n",
              "    <tr>\n",
              "      <th>Weight</th>\n",
              "      <td>0</td>\n",
              "    </tr>\n",
              "    <tr>\n",
              "      <th>family_history_with_overweight</th>\n",
              "      <td>0</td>\n",
              "    </tr>\n",
              "    <tr>\n",
              "      <th>FAVC</th>\n",
              "      <td>0</td>\n",
              "    </tr>\n",
              "    <tr>\n",
              "      <th>FCVC</th>\n",
              "      <td>0</td>\n",
              "    </tr>\n",
              "    <tr>\n",
              "      <th>NCP</th>\n",
              "      <td>0</td>\n",
              "    </tr>\n",
              "    <tr>\n",
              "      <th>CAEC</th>\n",
              "      <td>0</td>\n",
              "    </tr>\n",
              "    <tr>\n",
              "      <th>SMOKE</th>\n",
              "      <td>0</td>\n",
              "    </tr>\n",
              "    <tr>\n",
              "      <th>CH2O</th>\n",
              "      <td>0</td>\n",
              "    </tr>\n",
              "    <tr>\n",
              "      <th>SCC</th>\n",
              "      <td>0</td>\n",
              "    </tr>\n",
              "    <tr>\n",
              "      <th>FAF</th>\n",
              "      <td>0</td>\n",
              "    </tr>\n",
              "    <tr>\n",
              "      <th>TUE</th>\n",
              "      <td>0</td>\n",
              "    </tr>\n",
              "    <tr>\n",
              "      <th>CALC</th>\n",
              "      <td>0</td>\n",
              "    </tr>\n",
              "    <tr>\n",
              "      <th>MTRANS</th>\n",
              "      <td>0</td>\n",
              "    </tr>\n",
              "    <tr>\n",
              "      <th>NObeyesdad</th>\n",
              "      <td>0</td>\n",
              "    </tr>\n",
              "  </tbody>\n",
              "</table>\n",
              "</div><br><label><b>dtype:</b> int64</label>"
            ]
          },
          "metadata": {},
          "execution_count": 12
        }
      ]
    },
    {
      "cell_type": "code",
      "source": [
        "#cek tiap kolom kategorik ada kategori yang salah atau engga\n",
        "\n",
        "print(df['Gender'].value_counts())\n",
        "print(df['Age'].value_counts())\n",
        "print(df['family_history_with_overweight'].value_counts())\n",
        "print(df['FAVC'].value_counts())\n",
        "print(df['CAEC'].value_counts())\n",
        "print(df['SMOKE'].value_counts())\n",
        "print(df['SCC'].value_counts())\n",
        "print(df['CALC'].value_counts())\n",
        "print(df['MTRANS'].value_counts())\n",
        "print(df['NObeyesdad'].value_counts())"
      ],
      "metadata": {
        "colab": {
          "base_uri": "https://localhost:8080/"
        },
        "id": "zTycW_1JrUrg",
        "outputId": "2a4d8e45-702d-4758-caa8-907feb241c7f"
      },
      "execution_count": 13,
      "outputs": [
        {
          "output_type": "stream",
          "name": "stdout",
          "text": [
            "Gender\n",
            "Male      536\n",
            "Female    519\n",
            "Name: count, dtype: int64\n",
            "Age\n",
            "26          108\n",
            "18          101\n",
            "21          101\n",
            "23           97\n",
            "22           87\n",
            "19           87\n",
            "20           79\n",
            "24           53\n",
            "25           46\n",
            "31           33\n",
            "17           32\n",
            "30           24\n",
            "27           22\n",
            "29           20\n",
            "33           16\n",
            "39           14\n",
            "34           14\n",
            "37           13\n",
            "32           11\n",
            "40           11\n",
            "28           11\n",
            "41           11\n",
            "38           11\n",
            "35           10\n",
            "16            8\n",
            "42            4\n",
            "18 years      4\n",
            "21 years      3\n",
            "36            3\n",
            "44            2\n",
            "26 years      2\n",
            "43            2\n",
            "55            2\n",
            "44 years      1\n",
            "56            1\n",
            "19 years      1\n",
            "22 years      1\n",
            "61            1\n",
            "23 years      1\n",
            "52            1\n",
            "20 years      1\n",
            "51            1\n",
            "45            1\n",
            "47            1\n",
            "32 years      1\n",
            "33 years      1\n",
            "Name: count, dtype: int64\n",
            "family_history_with_overweight\n",
            "yes    864\n",
            "no     191\n",
            "Name: count, dtype: int64\n",
            "FAVC\n",
            "yes    931\n",
            "no     124\n",
            "Name: count, dtype: int64\n",
            "CAEC\n",
            "Sometimes     897\n",
            "Frequently    112\n",
            "Always         24\n",
            "no             22\n",
            "Name: count, dtype: int64\n",
            "SMOKE\n",
            "no     1033\n",
            "yes      22\n",
            "Name: count, dtype: int64\n",
            "SCC\n",
            "no     1014\n",
            "yes      41\n",
            "Name: count, dtype: int64\n",
            "CALC\n",
            "Sometimes     705\n",
            "no            311\n",
            "Frequently     39\n",
            "Name: count, dtype: int64\n",
            "MTRANS\n",
            "Public_Transportation    785\n",
            "Automobile               238\n",
            "Walking                   26\n",
            "Bike                       3\n",
            "Motorbike                  3\n",
            "Name: count, dtype: int64\n",
            "NObeyesdad\n",
            "Obesity_Type_I         175\n",
            "Obesity_Type_III       162\n",
            "Obesity_Type_II        148\n",
            "Overweight_Level_I     145\n",
            "Overweight_Level_II    145\n",
            "Normal_Weight          144\n",
            "Insufficient_Weight    136\n",
            "Name: count, dtype: int64\n"
          ]
        }
      ]
    },
    {
      "cell_type": "code",
      "source": [
        "# Hapus years dan ubah age dari object ke float\n",
        "df['Age'] = df['Age'].str.replace('years', '', case=False)\n",
        "df['Age'] = df['Age'].str.strip()\n",
        "df['Age'] = pd.to_numeric(df['Age'], errors='coerce')\n",
        "\n",
        "print(df['Age'].value_counts().sort_index())"
      ],
      "metadata": {
        "colab": {
          "base_uri": "https://localhost:8080/"
        },
        "id": "HN_OmLSMtha1",
        "outputId": "387b56d2-7128-4f94-9eda-68a3a1566a6e"
      },
      "execution_count": 14,
      "outputs": [
        {
          "output_type": "stream",
          "name": "stdout",
          "text": [
            "Age\n",
            "16      8\n",
            "17     32\n",
            "18    105\n",
            "19     88\n",
            "20     80\n",
            "21    104\n",
            "22     88\n",
            "23     98\n",
            "24     53\n",
            "25     46\n",
            "26    110\n",
            "27     22\n",
            "28     11\n",
            "29     20\n",
            "30     24\n",
            "31     33\n",
            "32     12\n",
            "33     17\n",
            "34     14\n",
            "35     10\n",
            "36      3\n",
            "37     13\n",
            "38     11\n",
            "39     14\n",
            "40     11\n",
            "41     11\n",
            "42      4\n",
            "43      2\n",
            "44      3\n",
            "45      1\n",
            "47      1\n",
            "51      1\n",
            "52      1\n",
            "55      2\n",
            "56      1\n",
            "61      1\n",
            "Name: count, dtype: int64\n"
          ]
        }
      ]
    },
    {
      "cell_type": "code",
      "source": [
        "for col in df.select_dtypes(include=np.number).columns:\n",
        "    Q1 = df[col].quantile(0.25)\n",
        "    Q3 = df[col].quantile(0.75)\n",
        "    IQR = Q3 - Q1\n",
        "    outliers = df[(df[col] < Q1 - 1.5 * IQR) | (df[col] > Q3 + 1.5 * IQR)]\n",
        "    print(f\"Outliers in {col}: {len(outliers)} rows\")"
      ],
      "metadata": {
        "colab": {
          "base_uri": "https://localhost:8080/"
        },
        "id": "UPCH9tYBtrXr",
        "outputId": "3f9743ff-f429-4ef2-c11f-3a6c2e19a41a"
      },
      "execution_count": 15,
      "outputs": [
        {
          "output_type": "stream",
          "name": "stdout",
          "text": [
            "Outliers in Age: 80 rows\n",
            "Outliers in Height: 0 rows\n",
            "Outliers in Weight: 0 rows\n",
            "Outliers in FCVC: 0 rows\n",
            "Outliers in NCP: 306 rows\n",
            "Outliers in CH2O: 0 rows\n",
            "Outliers in FAF: 0 rows\n",
            "Outliers in TUE: 0 rows\n"
          ]
        }
      ]
    },
    {
      "cell_type": "code",
      "source": [
        "for col in df.select_dtypes(include=np.number).columns:\n",
        "    plt.figure(figsize=(5, 1.5))\n",
        "    plt.boxplot(df[col], vert=False)\n",
        "    plt.title(f'Boxplot of {col}')\n",
        "    plt.xlabel(col)\n",
        "    plt.grid(True, linestyle='--', alpha=0.5)\n",
        "    plt.show()"
      ],
      "metadata": {
        "colab": {
          "base_uri": "https://localhost:8080/",
          "height": 1000
        },
        "id": "XOrJ-lYvufyo",
        "outputId": "cfd07ec9-b542-4db2-c5e3-e2b16b3fc402"
      },
      "execution_count": 16,
      "outputs": [
        {
          "output_type": "display_data",
          "data": {
            "text/plain": [
              "<Figure size 500x150 with 1 Axes>"
            ],
            "image/png": "[encoded data removed]"
          },
          "metadata": {}
        },
        {
          "output_type": "display_data",
          "data": {
            "text/plain": [
              "<Figure size 500x150 with 1 Axes>"
            ],
            "image/png": "[encoded data removed]"
          },
          "metadata": {}
        },
        {
          "output_type": "display_data",
          "data": {
            "text/plain": [
              "<Figure size 500x150 with 1 Axes>"
            ],
            "image/png": "[encoded data removed]"
          },
          "metadata": {}
        },
        {
          "output_type": "display_data",
          "data": {
            "text/plain": [
              "<Figure size 500x150 with 1 Axes>"
            ],
            "image/png": "[encoded data removed]"
          },
          "metadata": {}
        },
        {
          "output_type": "display_data",
          "data": {
            "text/plain": [
              "<Figure size 500x150 with 1 Axes>"
            ],
            "image/png": "[encoded data removed]"
          },
          "metadata": {}
        },
        {
          "output_type": "display_data",
          "data": {
            "text/plain": [
              "<Figure size 500x150 with 1 Axes>"
            ],
            "image/png": "[encoded data removed]"
          },
          "metadata": {}
        },
        {
          "output_type": "display_data",
          "data": {
            "text/plain": [
              "<Figure size 500x150 with 1 Axes>"
            ],
            "image/png": "[encoded data removed]"
          },
          "metadata": {}
        },
        {
          "output_type": "display_data",
          "data": {
            "text/plain": [
              "<Figure size 500x150 with 1 Axes>"
            ],
            "image/png": "[encoded data removed]"
          },
          "metadata": {}
        }
      ]
    },
    {
      "cell_type": "code",
      "source": [
        "from sklearn.compose import ColumnTransformer\n",
        "from sklearn.pipeline import Pipeline\n",
        "from sklearn.impute import SimpleImputer\n",
        "from sklearn.preprocessing import OrdinalEncoder\n",
        "from sklearn.metrics import classification_report, accuracy_score\n",
        "\n",
        "numeric_columns = ['Age', 'Height', 'Weight', 'FCVC', 'NCP', 'CH2O', 'FAF', 'TUE']\n",
        "categorical_columns = ['family_history_with_overweight', 'FAVC', 'CAEC',\n",
        "                    'SMOKE', 'SCC', 'CALC', 'MTRANS']\n",
        "target_columns = 'NObeyesdad'"
      ],
      "metadata": {
        "id": "5yPohTJ9-zZp"
      },
      "execution_count": 19,
      "outputs": []
    },
    {
      "cell_type": "code",
      "source": [
        "from sklearn.preprocessing import LabelEncoder\n",
        "\n",
        "binary_mapping = {\n",
        "    \"Gender\": {\"Female\": 0, \"Male\": 1}\n",
        "}\n",
        "\n",
        "df = df.replace(binary_mapping)"
      ],
      "metadata": {
        "colab": {
          "base_uri": "https://localhost:8080/"
        },
        "id": "5fq5E7Lvu_NH",
        "outputId": "76f55537-6798-4f0a-bebe-07ea37047905"
      },
      "execution_count": 20,
      "outputs": [
        {
          "output_type": "stream",
          "name": "stderr",
          "text": [
            "/tmp/ipython-input-20-329252508.py:7: FutureWarning: Downcasting behavior in `replace` is deprecated and will be removed in a future version. To retain the old behavior, explicitly call `result.infer_objects(copy=False)`. To opt-in to the future behavior, set `pd.set_option('future.no_silent_downcasting', True)`\n",
            "  df = df.replace(binary_mapping)\n"
          ]
        }
      ]
    },
    {
      "cell_type": "code",
      "source": [
        "le_target = LabelEncoder()\n",
        "df[target_columns] = le_target.fit_transform(df[target_columns])"
      ],
      "metadata": {
        "id": "qKHXTZ6KKseG"
      },
      "execution_count": 21,
      "outputs": []
    },
    {
      "cell_type": "code",
      "source": [
        "from sklearn.model_selection import train_test_split\n",
        "from sklearn.preprocessing import StandardScaler\n",
        "\n",
        "# 1. Pisahkan fitur dan target\n",
        "X = df.drop(columns=[target_columns])\n",
        "y = df[target_columns]"
      ],
      "metadata": {
        "id": "-V7t2AjZ3-Kb"
      },
      "execution_count": 22,
      "outputs": []
    },
    {
      "cell_type": "code",
      "source": [
        "#split data jadi training n testing\n",
        "from sklearn.model_selection import train_test_split\n",
        "X_train, X_test, y_train, y_test = train_test_split(X, y, test_size = 0.2, random_state = 0)"
      ],
      "metadata": {
        "id": "Af_OWO8OHO3x"
      },
      "execution_count": 23,
      "outputs": []
    },
    {
      "cell_type": "code",
      "source": [
        "#buat tau brp ukurannya\n",
        "print('train data: ',X_train.shape)\n",
        "print('test data: ',X_test.shape)"
      ],
      "metadata": {
        "colab": {
          "base_uri": "https://localhost:8080/"
        },
        "id": "yu8VDrgNHP4x",
        "outputId": "abb4904b-b1b6-4ae2-c45a-ec9d19891659"
      },
      "execution_count": 24,
      "outputs": [
        {
          "output_type": "stream",
          "name": "stdout",
          "text": [
            "train data:  (844, 16)\n",
            "test data:  (211, 16)\n"
          ]
        }
      ]
    },
    {
      "cell_type": "code",
      "source": [
        "feature_categories_for_encoder = [\n",
        "    ['no', 'yes'],                                # family_history_with_overweight\n",
        "    ['no', 'yes'],                                # FAVC\n",
        "    ['no', 'Sometimes', 'Frequently', 'Always'],  # CAEC\n",
        "    ['no', 'yes'],                                # SMOKE\n",
        "    ['no', 'yes'],                                # SCC\n",
        "    ['no', 'Sometimes', 'Frequently', 'Always'],  # CALC\n",
        "    ['Automobile', 'Bike', 'Motorbike', 'Public_Transportation', 'Walking'] # MTRANS\n",
        "]\n",
        "\n",
        "categorical_transformer = Pipeline(steps=[\n",
        "    ('imputer', SimpleImputer(strategy='most_frequent')),\n",
        "    ('ordinal_encoder', OrdinalEncoder(categories=feature_categories_for_encoder, handle_unknown='use_encoded_value', unknown_value=-1))\n",
        "])"
      ],
      "metadata": {
        "id": "Rdf0VYCnb-bC"
      },
      "execution_count": 25,
      "outputs": []
    },
    {
      "cell_type": "code",
      "source": [
        "numeric_transformer = Pipeline(steps=[\n",
        "    ('imputer', SimpleImputer(strategy='median')),\n",
        "    ('scaler', StandardScaler())\n",
        "])"
      ],
      "metadata": {
        "id": "CFI-BH1Lb2oD"
      },
      "execution_count": 26,
      "outputs": []
    },
    {
      "cell_type": "code",
      "source": [
        "preprocessor = ColumnTransformer(\n",
        "    transformers=[\n",
        "        ('num', numeric_transformer, numeric_columns),\n",
        "        ('cat', categorical_transformer, categorical_columns)\n",
        "    ],\n",
        "    remainder='passthrough'\n",
        ")"
      ],
      "metadata": {
        "id": "kv6jMwBOcM_z"
      },
      "execution_count": 27,
      "outputs": []
    },
    {
      "cell_type": "code",
      "source": [
        "from sklearn.ensemble import RandomForestClassifier\n",
        "from sklearn.metrics import accuracy_score, classification_report\n",
        "\n",
        "rf_pipeline = Pipeline([\n",
        "    ('preprocessing', preprocessor),\n",
        "    ('model', RandomForestClassifier(random_state=42))\n",
        "])\n",
        "\n",
        "# Train dan evaluasi RF\n",
        "rf_pipeline.fit(X_train, y_train)\n",
        "y_pred_rf = rf_pipeline.predict(X_test)\n",
        "print(\"Random Forest Accuracy:\", accuracy_score(y_test, y_pred_rf))\n",
        "print(\"Random Forest Report:\\n\", classification_report(y_test, y_pred_rf))"
      ],
      "metadata": {
        "colab": {
          "base_uri": "https://localhost:8080/"
        },
        "id": "jqPyXjAf4_Un",
        "outputId": "4c72c965-9732-4bb1-8ce8-8d40487bc306"
      },
      "execution_count": 28,
      "outputs": [
        {
          "output_type": "stream",
          "name": "stdout",
          "text": [
            "Random Forest Accuracy: 0.9478672985781991\n",
            "Random Forest Report:\n",
            "               precision    recall  f1-score   support\n",
            "\n",
            "           0       1.00      0.94      0.97        32\n",
            "           1       0.84      0.90      0.87        29\n",
            "           2       1.00      0.93      0.96        29\n",
            "           3       1.00      1.00      1.00        28\n",
            "           4       1.00      1.00      1.00        32\n",
            "           5       0.87      0.90      0.88        29\n",
            "           6       0.94      0.97      0.95        32\n",
            "\n",
            "    accuracy                           0.95       211\n",
            "   macro avg       0.95      0.95      0.95       211\n",
            "weighted avg       0.95      0.95      0.95       211\n",
            "\n"
          ]
        }
      ]
    },
    {
      "cell_type": "code",
      "source": [
        "from xgboost import XGBClassifier\n",
        "\n",
        "xgb_pipeline = Pipeline([\n",
        "    ('preprocessing', preprocessor),\n",
        "    ('model', XGBClassifier(use_label_encoder=False, eval_metric='logloss', random_state=42))\n",
        "])\n",
        "\n",
        "# Train dan evaluasi XGB\n",
        "xgb_pipeline.fit(X_train, y_train)\n",
        "y_pred_xgb = xgb_pipeline.predict(X_test)\n",
        "print(\"XGBoost Accuracy:\", accuracy_score(y_test, y_pred_xgb))\n",
        "print(\"XGBoost Report:\\n\", classification_report(y_test, y_pred_xgb))"
      ],
      "metadata": {
        "colab": {
          "base_uri": "https://localhost:8080/"
        },
        "id": "aR1ryV2b5suI",
        "outputId": "36432e3b-1263-410c-d038-d6f6919df6f1"
      },
      "execution_count": 29,
      "outputs": [
        {
          "output_type": "stream",
          "name": "stderr",
          "text": [
            "/usr/local/lib/python3.11/dist-packages/xgboost/core.py:158: UserWarning: [14:57:31] WARNING: /workspace/src/learner.cc:740: \n",
            "Parameters: { \"use_label_encoder\" } are not used.\n",
            "\n",
            "  warnings.warn(smsg, UserWarning)\n"
          ]
        },
        {
          "output_type": "stream",
          "name": "stdout",
          "text": [
            "XGBoost Accuracy: 0.9620853080568721\n",
            "XGBoost Report:\n",
            "               precision    recall  f1-score   support\n",
            "\n",
            "           0       0.94      0.97      0.95        32\n",
            "           1       0.96      0.83      0.89        29\n",
            "           2       1.00      1.00      1.00        29\n",
            "           3       1.00      1.00      1.00        28\n",
            "           4       1.00      1.00      1.00        32\n",
            "           5       0.90      0.93      0.92        29\n",
            "           6       0.94      1.00      0.97        32\n",
            "\n",
            "    accuracy                           0.96       211\n",
            "   macro avg       0.96      0.96      0.96       211\n",
            "weighted avg       0.96      0.96      0.96       211\n",
            "\n"
          ]
        }
      ]
    },
    {
      "cell_type": "code",
      "source": [
        "from sklearn.model_selection import GridSearchCV\n",
        "from sklearn.ensemble import RandomForestClassifier\n",
        "\n",
        "rf_pipeline = Pipeline([\n",
        "    ('preprocessing', preprocessor),\n",
        "    ('clf', RandomForestClassifier(random_state=42))\n",
        "])\n",
        "\n",
        "param_grid_rf = {\n",
        "    'clf__n_estimators': [100, 200],\n",
        "    'clf__max_depth': [None, 10, 20],\n",
        "    'clf__min_samples_split': [2, 5],\n",
        "    'clf__min_samples_leaf': [1, 2]\n",
        "}\n",
        "\n",
        "grid_rf = GridSearchCV(rf_pipeline, param_grid_rf, cv=5,\n",
        "                       scoring='f1_macro', n_jobs=-1, verbose=2)\n",
        "\n",
        "grid_rf.fit(X_train, y_train)\n",
        "\n",
        "y_pred_rf = grid_rf.predict(X_test)\n",
        "print(\"🎯 [Random Forest] Test Accuracy:\", accuracy_score(y_test, y_pred_rf))\n",
        "print(\"🎯 [Random Forest] Report:\\n\", classification_report(y_test, y_pred_rf))"
      ],
      "metadata": {
        "colab": {
          "base_uri": "https://localhost:8080/"
        },
        "id": "OLW0MRn46sz1",
        "outputId": "6b8e49f4-a22d-4e15-e9ce-ae2988861705"
      },
      "execution_count": 30,
      "outputs": [
        {
          "output_type": "stream",
          "name": "stdout",
          "text": [
            "Fitting 5 folds for each of 24 candidates, totalling 120 fits\n",
            "🎯 [Random Forest] Test Accuracy: 0.95260663507109\n",
            "🎯 [Random Forest] Report:\n",
            "               precision    recall  f1-score   support\n",
            "\n",
            "           0       1.00      0.94      0.97        32\n",
            "           1       0.84      0.93      0.89        29\n",
            "           2       0.97      0.97      0.97        29\n",
            "           3       1.00      1.00      1.00        28\n",
            "           4       1.00      1.00      1.00        32\n",
            "           5       0.90      0.90      0.90        29\n",
            "           6       0.97      0.94      0.95        32\n",
            "\n",
            "    accuracy                           0.95       211\n",
            "   macro avg       0.95      0.95      0.95       211\n",
            "weighted avg       0.95      0.95      0.95       211\n",
            "\n"
          ]
        }
      ]
    },
    {
      "cell_type": "code",
      "source": [
        "from sklearn.model_selection import RandomizedSearchCV\n",
        "from xgboost import XGBClassifier\n",
        "import numpy as np\n",
        "\n",
        "xgb_pipeline = Pipeline([\n",
        "    ('preprocessing', preprocessor),\n",
        "    ('clf', XGBClassifier(random_state=42, use_label_encoder=False, eval_metric='logloss'))\n",
        "])\n",
        "\n",
        "param_dist_xgb = {\n",
        "    'clf__n_estimators': [100, 200],  # Disamakan jumlahnya\n",
        "    'clf__max_depth': [5, 10],\n",
        "    'clf__learning_rate': [0.01, 0.1],\n",
        "    'clf__subsample': [0.8, 1.0],\n",
        "    'clf__colsample_bytree': [0.8, 1.0]\n",
        "}\n",
        "\n",
        "random_xgb = RandomizedSearchCV(xgb_pipeline, param_distributions=param_dist_xgb,\n",
        "                                 n_iter=10, scoring='f1_macro', cv=5,\n",
        "                                 random_state=42, n_jobs=-1, verbose=2)\n",
        "\n",
        "random_xgb.fit(X_train, y_train)\n",
        "\n",
        "y_pred_xgb = random_xgb.predict(X_test)\n",
        "print(\"🚀 [XGBoost] Test Accuracy:\", accuracy_score(y_test, y_pred_xgb))\n",
        "print(\"🚀 [XGBoost] Report:\\n\", classification_report(y_test, y_pred_xgb))"
      ],
      "metadata": {
        "colab": {
          "base_uri": "https://localhost:8080/"
        },
        "id": "jQpHFwQr7nEu",
        "outputId": "47bbcb3b-985e-481b-9644-7323f2bed0dc"
      },
      "execution_count": 31,
      "outputs": [
        {
          "output_type": "stream",
          "name": "stdout",
          "text": [
            "Fitting 5 folds for each of 10 candidates, totalling 50 fits\n"
          ]
        },
        {
          "output_type": "stream",
          "name": "stderr",
          "text": [
            "/usr/local/lib/python3.11/dist-packages/xgboost/core.py:158: UserWarning: [14:58:51] WARNING: /workspace/src/learner.cc:740: \n",
            "Parameters: { \"use_label_encoder\" } are not used.\n",
            "\n",
            "  warnings.warn(smsg, UserWarning)\n"
          ]
        },
        {
          "output_type": "stream",
          "name": "stdout",
          "text": [
            "🚀 [XGBoost] Test Accuracy: 0.976303317535545\n",
            "🚀 [XGBoost] Report:\n",
            "               precision    recall  f1-score   support\n",
            "\n",
            "           0       1.00      0.97      0.98        32\n",
            "           1       0.96      0.93      0.95        29\n",
            "           2       1.00      1.00      1.00        29\n",
            "           3       1.00      1.00      1.00        28\n",
            "           4       1.00      1.00      1.00        32\n",
            "           5       0.96      0.93      0.95        29\n",
            "           6       0.91      1.00      0.96        32\n",
            "\n",
            "    accuracy                           0.98       211\n",
            "   macro avg       0.98      0.98      0.98       211\n",
            "weighted avg       0.98      0.98      0.98       211\n",
            "\n"
          ]
        }
      ]
    },
    {
      "cell_type": "code",
      "source": [
        "import pickle\n",
        "\n",
        "best_model = random_xgb.best_estimator_\n",
        "\n",
        "with open('best_model_xgboost.pkl', 'wb') as file:\n",
        "    pickle.dump(best_model, file)"
      ],
      "metadata": {
        "id": "eHGI0t2fAYwH"
      },
      "execution_count": 32,
      "outputs": []
    },
    {
      "cell_type": "code",
      "source": [
        "from google.colab import files\n",
        "files.download('best_model_xgboost.pkl')"
      ],
      "metadata": {
        "colab": {
          "base_uri": "https://localhost:8080/",
          "height": 17
        },
        "id": "k5n2oKlF3VAw",
        "outputId": "dfe491ed-c59f-4e42-84bb-24e7a7ae27d8"
      },
      "execution_count": 33,
      "outputs": [
        {
          "output_type": "display_data",
          "data": {
            "text/plain": [
              "<IPython.core.display.Javascript object>"
            ],
            "application/javascript": [
              "\n",
              "    async function download(id, filename, size) {\n",
              "      if (!google.colab.kernel.accessAllowed) {\n",
              "        return;\n",
              "      }\n",
              "      const div = document.createElement('div');\n",
              "      const label = document.createElement('label');\n",
              "      label.textContent = `Downloading \"${filename}\": `;\n",
              "      div.appendChild(label);\n",
              "      const progress = document.createElement('progress');\n",
              "      progress.max = size;\n",
              "      div.appendChild(progress);\n",
              "      document.body.appendChild(div);\n",
              "\n",
              "      const buffers = [];\n",
              "      let downloaded = 0;\n",
              "\n",
              "      const channel = await google.colab.kernel.comms.open(id);\n",
              "      // Send a message to notify the kernel that we're ready.\n",
              "      channel.send({})\n",
              "\n",
              "      for await (const message of channel.messages) {\n",
              "        // Send a message to notify the kernel that we're ready.\n",
              "        channel.send({})\n",
              "        if (message.buffers) {\n",
              "          for (const buffer of message.buffers) {\n",
              "            buffers.push(buffer);\n",
              "            downloaded += buffer.byteLength;\n",
              "            progress.value = downloaded;\n",
              "          }\n",
              "        }\n",
              "      }\n",
              "      const blob = new Blob(buffers, {type: 'application/binary'});\n",
              "      const a = document.createElement('a');\n",
              "      a.href = window.URL.createObjectURL(blob);\n",
              "      a.download = filename;\n",
              "      div.appendChild(a);\n",
              "      a.click();\n",
              "      div.remove();\n",
              "    }\n",
              "  "
            ]
          },
          "metadata": {}
        },
        {
          "output_type": "display_data",
          "data": {
            "text/plain": [
              "<IPython.core.display.Javascript object>"
            ],
            "application/javascript": [
              "download(\"download_cbb4b1b5-1bdd-4706-a572-d7021e06b6f3\", \"best_model_xgboost.pkl\", 894046)"
            ]
          },
          "metadata": {}
        }
      ]
    }
  ]
}
